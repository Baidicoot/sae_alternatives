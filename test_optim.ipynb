{
 "cells": [
  {
   "cell_type": "code",
   "execution_count": null,
   "metadata": {},
   "outputs": [],
   "source": [
    "import torch\n",
    "import tqdm.notebook as tqdm\n",
    "\n",
    "def normalize_dict(m):\n",
    "    norms = torch.norm(m, p=2, dim=0)\n",
    "    # print(norms.shape)\n",
    "    return m / norms.unsqueeze(0)"
   ]
  },
  {
   "cell_type": "code",
   "execution_count": null,
   "metadata": {},
   "outputs": [],
   "source": [
    "W = normalize_dict(torch.randn(2048, 65536).cuda())\n",
    "W.requires_grad = True"
   ]
  },
  {
   "cell_type": "code",
   "execution_count": null,
   "metadata": {},
   "outputs": [],
   "source": [
    "opt = torch.optim.SGD([W], lr=0.01, momentum=0.9)\n",
    "\n",
    "for i in tqdm.tqdm(range(10_000)):\n",
    "    opt.zero_grad()\n",
    "    x = torch.randn(1024, 2048).cuda()\n",
    "    loss = ((x @ W) @ W.T - x).pow(2).mean()\n",
    "    loss.backward()\n",
    "    opt.step()\n",
    "\n",
    "    if i % 100 == 99:\n",
    "        print(loss.item())\n",
    "\n",
    "    W.data = normalize_dict(W.data)"
   ]
  },
  {
   "cell_type": "code",
   "execution_count": null,
   "metadata": {},
   "outputs": [],
   "source": [
    "W.T @ W"
   ]
  }
 ],
 "metadata": {
  "kernelspec": {
   "display_name": ".venv",
   "language": "python",
   "name": "python3"
  },
  "language_info": {
   "codemirror_mode": {
    "name": "ipython",
    "version": 3
   },
   "file_extension": ".py",
   "mimetype": "text/x-python",
   "name": "python",
   "nbconvert_exporter": "python",
   "pygments_lexer": "ipython3",
   "version": "3.10.13"
  }
 },
 "nbformat": 4,
 "nbformat_minor": 2
}
